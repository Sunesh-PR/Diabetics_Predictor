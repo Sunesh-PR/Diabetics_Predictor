{
 "cells": [
  {
   "cell_type": "markdown",
   "metadata": {},
   "source": [
    "## Diabetics Predictor"
   ]
  },
  {
   "cell_type": "markdown",
   "metadata": {},
   "source": [
    "Importing the libs and data\n"
   ]
  },
  {
   "cell_type": "code",
   "execution_count": null,
   "metadata": {},
   "outputs": [],
   "source": [
    "import pandas as pd \n",
    "import numpy as np\n",
    "import matplotlib.pyplot as plt     \n",
    "from sklearn.utils import shuffle\n",
    "import seaborn as sns  "
   ]
  },
  {
   "cell_type": "markdown",
   "metadata": {},
   "source": [
    "Mean Normalisation"
   ]
  },
  {
   "cell_type": "code",
   "execution_count": null,
   "metadata": {},
   "outputs": [],
   "source": [
    "def meannorm(nd):\n",
    "    men=nd.mean();\n",
    "    std=nd.max()-nd.min();\n",
    "    nd=(nd-men)/std;\n",
    "    return [nd,men,std];"
   ]
  },
  {
   "cell_type": "code",
   "execution_count": null,
   "metadata": {},
   "outputs": [],
   "source": [
    "def datacleanser(x):\n",
    "    x = shuffle(x);\n",
    "    x=x.reset_index(drop=True);\n",
    "    print(\"Data before Cleansing:\\n\");\n",
    "    print(x.head(5));\n",
    "    x=x.drop(columns=\"Diabetes Pedigree Function\");\n",
    "    [nd,men,std]=meannorm(x);\n",
    "    nd[\"Class\"]=x[\"Class\"];\n",
    "    print(\"Data after Cleansing:\\n\");\n",
    "    print(nd.head(5));\n",
    "    return [nd,men,std];"
   ]
  },
  {
   "cell_type": "code",
   "execution_count": null,
   "metadata": {},
   "outputs": [],
   "source": [
    "def sigmoid(x):\n",
    "    sig=(1/(1+(np.exp(-x))));\n",
    "    return sig;"
   ]
  },
  {
   "cell_type": "code",
   "execution_count": null,
   "metadata": {},
   "outputs": [],
   "source": [
    "def grad(x,y,theta):\n",
    "    alpha=9;\n",
    "    h=sigmoid(x.dot(theta).rename(columns={0:\"Class\"}));\n",
    "    theta=theta-((alpha/x.shape[0])*(x.T.dot(h.subtract(y))));\n",
    "    costfunc(x,y,theta);\n",
    "    J=(costfunc(x,y,theta)).to_numpy();\n",
    "    return (theta,J);"
   ]
  },
  {
   "cell_type": "code",
   "execution_count": null,
   "metadata": {},
   "outputs": [],
   "source": [
    "def costfunc(x,y,theta):\n",
    "    h=sigmoid(x.dot(theta));\n",
    "    J=-(1/x.shape[0])*((y.T).dot(np.log(h))+(((1-y).T).dot(np.log(1-h))));\n",
    "    return J;"
   ]
  },
  {
   "cell_type": "code",
   "execution_count": null,
   "metadata": {},
   "outputs": [],
   "source": [
    "def fit(x,y):\n",
    "    x.insert(0,\"ones\",1);\n",
    "    iters=100;\n",
    "    J=np.zeros(shape=[iters,1],dtype=object);\n",
    "    [m,n]=x.shape;\n",
    "    theta=np.zeros(shape=[n,1],dtype=int);\n",
    "    for i in range(iters):\n",
    "        (theta,J[i])=grad(x,y,theta);\n",
    "    plt.figure();\n",
    "    plt.plot(J);\n",
    "    plt.xlabel(\"No. of Iterations -->\");\n",
    "    plt.ylabel(\"Cost Function -->\");\n",
    "    plt.title(\"Cost vs Iters\");\n",
    "    print(\"The minimum value of cost:\",J[-1,-1]);\n",
    "    return theta;"
   ]
  },
  {
   "cell_type": "code",
   "execution_count": null,
   "metadata": {},
   "outputs": [],
   "source": [
    "def predict(x,theta,threshold):\n",
    "    x.insert(0,\"ones\",1);\n",
    "    h=sigmoid(x.dot(theta));\n",
    "    return (h>=0.5);"
   ]
  },
  {
   "cell_type": "code",
   "execution_count": null,
   "metadata": {},
   "outputs": [],
   "source": [
    "def thresholdfinder(X_train,theta,y):\n",
    "    f1score=[];\n",
    "    for i in np.arange(0, 1, 0.1):\n",
    "        X_train=X_train.drop(columns=\"ones\");\n",
    "        ypred=predict(X_train,theta,i)\n",
    "        tp=((((y==1)&(ypred==1))[\"Class\"]).sum());\n",
    "        fp=((((y==1)&(ypred==0))[\"Class\"]).sum());\n",
    "        fn=((((y==0)&(ypred==1))[\"Class\"]).sum());\n",
    "        prec=tp/(tp+fp);\n",
    "        rec=tp/(tp+fn);\n",
    "        f1score=f1score.append([(prec*rec)/(prec+rec)]);\n",
    "    print(f1score);"
   ]
  },
  {
   "cell_type": "markdown",
   "metadata": {},
   "source": [
    "Importing DataSets"
   ]
  },
  {
   "cell_type": "code",
   "execution_count": null,
   "metadata": {},
   "outputs": [],
   "source": [
    "data=pd.read_csv(\"pima-indians-diabetes.csv\");\n",
    "data.rename(columns = {\"6\": \"Pregnancies\", \n",
    "                     \"148\":\"Glucose\",\n",
    "                    \"72\":\"BloodPressure\",\n",
    "                    \"35\":\"SkinThickness\",\n",
    "                    \"0\":\"Insulin\",\n",
    "                    \"33.6\":\"BMI\",\n",
    "                    \"0.627\":\"Diabetes Pedigree Function\",\n",
    "                    \"50\":\"Age\",\n",
    "                    \"1\":\"Class\"}, \n",
    "                                 inplace = True) ;"
   ]
  },
  {
   "cell_type": "code",
   "execution_count": null,
   "metadata": {},
   "outputs": [],
   "source": [
    "sns.countplot(x=\"Class\",hue=\"Pregnancies\",data=data);"
   ]
  },
  {
   "cell_type": "code",
   "execution_count": null,
   "metadata": {},
   "outputs": [],
   "source": [
    "[nd,men,std]=datacleanser(data);"
   ]
  },
  {
   "cell_type": "markdown",
   "metadata": {},
   "source": [
    "Seperating Training, Cross Validation and Test sets."
   ]
  },
  {
   "cell_type": "code",
   "execution_count": null,
   "metadata": {},
   "outputs": [],
   "source": [
    "[m,n]=nd.shape;\n",
    "trnd=nd.iloc[0:int(0.6*m),:];\n",
    "tstnd=nd.iloc[int(0.6*m):,:]\n",
    "X_train=trnd.iloc[:,:-1];\n",
    "Y_train=trnd[\"Class\"].to_frame();\n",
    "X_test=tstnd.iloc[:,:-1];\n",
    "Y_test=tstnd[\"Class\"].to_frame();"
   ]
  },
  {
   "cell_type": "code",
   "execution_count": null,
   "metadata": {},
   "outputs": [],
   "source": [
    "theta=fit(X_train,Y_train);\n",
    "threshold=thresholdfinder(X_train,theta,Y_train);\n",
    "y= predict(X_test,theta,threshold);\n",
    "print(\"The percentage of Accuaracy attained:\",(y==Y_test).mean()[\"Class\"]*100,\"%\");\n",
    "X_test=X_test.drop(columns=\"ones\");"
   ]
  },
  {
   "cell_type": "markdown",
   "metadata": {
    "scrolled": true
   },
   "source": [
    "Testing for a specfic data"
   ]
  },
  {
   "cell_type": "code",
   "execution_count": null,
   "metadata": {},
   "outputs": [],
   "source": [
    "dnww=list(map(float, input(\"Pregnancies,Glucose,BloodPressure,SkinThickness,Insulin,BMI,Age\").split()))\n",
    "dn = (dnww-men[:7])/(std[:7]);\n",
    "a=pd.Series([1]);\n",
    "dn=a.append(dn);\n",
    "print(dn);\n",
    "dn=sum(sum(theta.T.values*dn.T.values));\n",
    "print(sigmoid(dn)>=0.5);\n",
    "#Pregnancies,Glucose,BloodPressure,SkinThickness,Insulin,BMI,Age"
   ]
  },
  {
   "cell_type": "code",
   "execution_count": null,
   "metadata": {},
   "outputs": [],
   "source": []
  }
 ],
 "metadata": {
  "kernelspec": {
   "display_name": "Python 3",
   "language": "python",
   "name": "python3"
  },
  "language_info": {
   "codemirror_mode": {
    "name": "ipython",
    "version": 3
   },
   "file_extension": ".py",
   "mimetype": "text/x-python",
   "name": "python",
   "nbconvert_exporter": "python",
   "pygments_lexer": "ipython3",
   "version": "3.7.3"
  }
 },
 "nbformat": 4,
 "nbformat_minor": 2
}
