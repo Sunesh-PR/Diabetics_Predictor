{
 "cells": [
  {
   "cell_type": "markdown",
   "metadata": {},
   "source": [
    "## Diabetics Predictor - Logistic Regression model (without using scikit learn )"
   ]
  },
  {
   "cell_type": "markdown",
   "metadata": {},
   "source": [
    "<b>Importing the libs and data</b>\n"
   ]
  },
  {
   "cell_type": "code",
   "execution_count": 1,
   "metadata": {},
   "outputs": [],
   "source": [
    "import pandas as pd \n",
    "import numpy as np\n",
    "import matplotlib.pyplot as plt     \n",
    "from sklearn.utils import shuffle\n",
    "import seaborn as sns  "
   ]
  },
  {
   "cell_type": "markdown",
   "metadata": {},
   "source": [
    "<b>Mean Normalisation</b>"
   ]
  },
  {
   "cell_type": "code",
   "execution_count": 2,
   "metadata": {},
   "outputs": [],
   "source": [
    "def meannorm(nd):\n",
    "    men=nd.mean();\n",
    "    std=nd.max()-nd.min();\n",
    "    nd=(nd-men)/std;\n",
    "    return [nd,men,std];"
   ]
  },
  {
   "cell_type": "markdown",
   "metadata": {},
   "source": [
    "<b>Data Cleansing:</b> Removing unwanted data and shuffling it"
   ]
  },
  {
   "cell_type": "code",
   "execution_count": 3,
   "metadata": {},
   "outputs": [],
   "source": [
    "def datacleanser(x):\n",
    "    x = shuffle(x);\n",
    "    x=x.reset_index(drop=True);\n",
    "    print(\"Data before Cleansing:\\n\");\n",
    "    print(x.head(5));\n",
    "    x=x.drop(columns=\"Diabetes Pedigree Function\");\n",
    "    [nd,men,std]=meannorm(x);\n",
    "    nd[\"Class\"]=x[\"Class\"];\n",
    "    print(\"Data after Cleansing:\\n\");\n",
    "    print(nd.head(5));\n",
    "    return [nd,men,std];"
   ]
  },
  {
   "cell_type": "markdown",
   "metadata": {},
   "source": [
    "<b>Sigmoid:</b> Returns the Sigmoid value for given x"
   ]
  },
  {
   "cell_type": "code",
   "execution_count": 4,
   "metadata": {},
   "outputs": [],
   "source": [
    "def sigmoid(x):\n",
    "    sig=(1/(1+(np.exp(-x))));\n",
    "    return sig;"
   ]
  },
  {
   "cell_type": "markdown",
   "metadata": {},
   "source": [
    "<b>Gradient Descent:</b> Performs Gradient Descent operations and returns optimum value for theta"
   ]
  },
  {
   "cell_type": "code",
   "execution_count": 5,
   "metadata": {},
   "outputs": [],
   "source": [
    "def grad(x,y,theta):\n",
    "    alpha=9;\n",
    "    h=sigmoid(x.dot(theta).rename(columns={0:\"Class\"}));\n",
    "    theta=theta-((alpha/x.shape[0])*(x.T.dot(h.subtract(y))));\n",
    "    costfunc(x,y,theta);\n",
    "    J=(costfunc(x,y,theta)).to_numpy();\n",
    "    return (theta,J);"
   ]
  },
  {
   "cell_type": "markdown",
   "metadata": {},
   "source": [
    "<b>Cost Function:</b> Finds the Cost for the given Theta"
   ]
  },
  {
   "cell_type": "code",
   "execution_count": 6,
   "metadata": {},
   "outputs": [],
   "source": [
    "def costfunc(x,y,theta):\n",
    "    h=sigmoid(x.dot(theta));\n",
    "    J=-(1/x.shape[0])*((y.T).dot(np.log(h))+(((1-y).T).dot(np.log(1-h))));\n",
    "    return J;"
   ]
  },
  {
   "cell_type": "markdown",
   "metadata": {},
   "source": [
    "<b>Fit:</b> Fit the given training examples to find optimum value of Theta"
   ]
  },
  {
   "cell_type": "code",
   "execution_count": 7,
   "metadata": {},
   "outputs": [],
   "source": [
    "def fit(x,y):\n",
    "    if \"ones\" in x.columns:\n",
    "        x=x.drop(columns=\"ones\");\n",
    "    x.insert(0,\"ones\",1);\n",
    "    iters=400;\n",
    "    J=np.zeros(shape=[iters,1],dtype=object);\n",
    "    [m,n]=x.shape;\n",
    "    theta=np.zeros(shape=[n,1],dtype=int);\n",
    "    for i in range(iters):\n",
    "        (theta,J[i])=grad(x,y,theta);\n",
    "    plt.figure();\n",
    "    plt.plot(J);\n",
    "    plt.xlabel(\"No. of Iterations -->\");\n",
    "    plt.ylabel(\"Cost Function -->\");\n",
    "    plt.title(\"Cost vs Iters\");\n",
    "    print(\"The minimum value of cost:\",J[-1,-1]);\n",
    "    return theta;"
   ]
  },
  {
   "cell_type": "markdown",
   "metadata": {},
   "source": [
    "<b>Predict:</b> Predict the outcome with the given theta "
   ]
  },
  {
   "cell_type": "code",
   "execution_count": 8,
   "metadata": {},
   "outputs": [],
   "source": [
    "def predict(x,theta,threshold):\n",
    "    if \"ones\" in x.columns:\n",
    "        x=x.drop(columns=\"ones\");\n",
    "    x.insert(0,\"ones\",1);\n",
    "    h=sigmoid(x.dot(theta));\n",
    "    return (h>=threshold);"
   ]
  },
  {
   "cell_type": "markdown",
   "metadata": {},
   "source": [
    "<b>F1Score Finder:</b> Finds the F1 score for given predictions and actual outcome "
   ]
  },
  {
   "cell_type": "code",
   "execution_count": null,
   "metadata": {},
   "outputs": [],
   "source": [
    "def f1scorefinder(y,ypred):\n",
    "    tp=((((y==1)&(ypred==1))[\"Class\"]).sum());\n",
    "    fp=((((y==1)&(ypred==0))[\"Class\"]).sum());\n",
    "    fn=((((y==0)&(ypred==1))[\"Class\"]).sum());\n",
    "    prec=tp/(tp+fp);\n",
    "    rec=tp/(tp+fn);\n",
    "    f1score=(prec*rec)/(prec+rec);\n",
    "    return [f1score,prec,rec];"
   ]
  },
  {
   "cell_type": "markdown",
   "metadata": {},
   "source": [
    "<b>Threshold Finder:</b> Finds the threshold value for predictions"
   ]
  },
  {
   "cell_type": "code",
   "execution_count": null,
   "metadata": {},
   "outputs": [],
   "source": [
    "def thresholdfinder(X_train,theta,y):\n",
    "    f1score=np.arange(0, 1, 0.05);\n",
    "    fmax=0;\n",
    "    threshold =0;\n",
    "    thers=np.arange(0, 1, 0.05)\n",
    "    for i in range(thers.size):\n",
    "        X_train=X_train.drop(columns=\"ones\");\n",
    "        ypred=predict(X_train,theta,thers[i]);\n",
    "        [f1Score,prec,rec]=f1scorefinder(y,ypred);\n",
    "        f1score[i]=f1Score;\n",
    "        if(f1score[i]>fmax):\n",
    "            fmax=f1score[i];\n",
    "            threshold=thers[i];\n",
    "    print(\"Best Threshold value:\",threshold);\n",
    "    return threshold;\n"
   ]
  },
  {
   "cell_type": "markdown",
   "metadata": {},
   "source": [
    "<b><b>Importing DataSets</b>"
   ]
  },
  {
   "cell_type": "code",
   "execution_count": null,
   "metadata": {},
   "outputs": [],
   "source": [
    "data=pd.read_csv(\"pima-indians-diabetes.csv\");\n",
    "data.rename(columns = {\"6\": \"Pregnancies\", \n",
    "                     \"148\":\"Glucose\",\n",
    "                    \"72\":\"BloodPressure\",\n",
    "                    \"35\":\"SkinThickness\",\n",
    "                    \"0\":\"Insulin\",\n",
    "                    \"33.6\":\"BMI\",\n",
    "                    \"0.627\":\"Diabetes Pedigree Function\",\n",
    "                    \"50\":\"Age\",\n",
    "                    \"1\":\"Class\"}, \n",
    "                                 inplace = True) ;"
   ]
  },
  {
   "cell_type": "code",
   "execution_count": null,
   "metadata": {},
   "outputs": [
    {
     "data": {
      "image/png": "[encoded data removed]",
      "text/plain": [
       "<Figure size 432x288 with 1 Axes>"
      ]
     },
     "metadata": {
      "needs_background": "light"
     },
     "output_type": "display_data"
    }
   ],
   "source": [
    "sns.countplot(x=\"Class\",hue=\"Pregnancies\",data=data);"
   ]
  },
  {
   "cell_type": "code",
   "execution_count": null,
   "metadata": {},
   "outputs": [
    {
     "name": "stdout",
     "output_type": "stream",
     "text": [
      "Data before Cleansing:\n",
      "\n",
      "   Pregnancies  Glucose  BloodPressure  SkinThickness  Insulin   BMI  \\\n",
      "0            3      103             72             30      152  27.6   \n",
      "1           12       88             74             40       54  35.3   \n",
      "2            5      139             80             35      160  31.6   \n",
      "3            1      108             60             46      178  35.5   \n",
      "4            9      164             84             21        0  30.8   \n",
      "\n",
      "   Diabetes Pedigree Function  Age  Class  \n",
      "0                       0.730   27      0  \n",
      "1                       0.378   48      0  \n",
      "2                       0.361   25      1  \n",
      "3                       0.415   24      0  \n",
      "4                       0.831   32      1  \n",
      "Data after Cleansing:\n",
      "\n",
      "   Pregnancies   Glucose  BloodPressure  SkinThickness   Insulin       BMI  \\\n",
      "0    -0.049544 -0.089745       0.023757       0.095782  0.085220 -0.065432   \n",
      "1     0.479868 -0.165122       0.040150       0.196792 -0.030619  0.049322   \n",
      "2     0.068103  0.091160       0.089330       0.146287  0.094677 -0.005819   \n",
      "3    -0.167191 -0.064619      -0.074604       0.257398  0.115953  0.052303   \n",
      "4     0.303397  0.216788       0.122117       0.004873 -0.094449 -0.017742   \n",
      "\n",
      "        Age  Class  \n",
      "0 -0.103651      0  \n",
      "1  0.246349      0  \n",
      "2 -0.136984      1  \n",
      "3 -0.153651      0  \n",
      "4 -0.020317      1  \n"
     ]
    }
   ],
   "source": [
    "[nd,men,std]=datacleanser(data);"
   ]
  },
  {
   "cell_type": "markdown",
   "metadata": {},
   "source": [
    "<b>Seperating Training, Cross Validation and Test sets.</b>"
   ]
  },
  {
   "cell_type": "code",
   "execution_count": null,
   "metadata": {},
   "outputs": [],
   "source": [
    "[m,n]=nd.shape;\n",
    "trnd=nd.iloc[0:int(0.8*m),:];\n",
    "tstnd=nd.iloc[int(0.8*m):,:]\n",
    "X_train=trnd.iloc[:,:-1];\n",
    "Y_train=trnd[\"Class\"].to_frame();\n",
    "X_test=tstnd.iloc[:,:-1];\n",
    "Y_test=tstnd[\"Class\"].to_frame();"
   ]
  },
  {
   "cell_type": "markdown",
   "metadata": {},
   "source": [
    "<b>Fitting and Testing:</b> "
   ]
  },
  {
   "cell_type": "code",
   "execution_count": null,
   "metadata": {},
   "outputs": [
    {
     "name": "stdout",
     "output_type": "stream",
     "text": [
      "The minimum value of cost: 0.4732763728955776\n",
      "Best Threshold value: 0.25\n",
      "Precision attained: 88.70967741935483 %\n",
      "Recall attained: 59.13978494623656 %\n",
      "Maximum percentage of Accuracy that can be achieved is: 75.32467532467533 %\n"
     ]
    },
    {
     "data": {
      "image/png": "[encoded data removed]",
      "text/plain": [
       "<Figure size 432x288 with 1 Axes>"
      ]
     },
     "metadata": {
      "needs_background": "light"
     },
     "output_type": "display_data"
    }
   ],
   "source": [
    "theta=fit(X_train,Y_train);\n",
    "threshold=thresholdfinder(X_train,theta,Y_train);\n",
    "y= predict(X_test,theta,threshold);\n",
    "[f1score,prec,rec] = f1scorefinder(Y_test,y);\n",
    "print(\"Precision attained:\",prec*100,\"%\");\n",
    "print(\"Recall attained:\",rec*100,\"%\");\n",
    "y=predict(X_test,theta,0.5);\n",
    "print(\"Maximum percentage of Accuracy that can be achieved is:\",(y==Y_test)[\"Class\"].mean()*100,\"%\");\n",
    "X_test=X_test.drop(columns=\"ones\");"
   ]
  },
  {
   "cell_type": "markdown",
   "metadata": {
    "scrolled": true
   },
   "source": [
    "<b>Testing for a specfic data</b>"
   ]
  },
  {
   "cell_type": "code",
   "execution_count": null,
   "metadata": {},
   "outputs": [],
   "source": [
    "dnww=list(map(float, input(\"Pregnancies,Glucose,BloodPressure,SkinThickness,Insulin,BMI,Age\").split()))\n",
    "dn = (dnww-men[:7])/(std[:7]);\n",
    "a=pd.Series([1]);\n",
    "dn=a.append(dn);\n",
    "dn=sum(sum(theta.T.values*dn.T.values));\n",
    "print(\"Test Result of Diabetics test:\",sigmoid(dn)>=threshold);\n",
    "#Pregnancies,Glucose,BloodPressure,SkinThickness,Insulin,BMI,Age"
   ]
  },
  {
   "cell_type": "code",
   "execution_count": null,
   "metadata": {},
   "outputs": [],
   "source": []
  }
 ],
 "metadata": {
  "gist": {
   "data": {
    "description": "Diabetics Predictor/",
    "public": true
   },
   "id": ""
  },
  "kernelspec": {
   "display_name": "Python 3",
   "language": "python",
   "name": "python3"
  },
  "language_info": {
   "codemirror_mode": {
    "name": "ipython",
    "version": 3
   },
   "file_extension": ".py",
   "mimetype": "text/x-python",
   "name": "python",
   "nbconvert_exporter": "python",
   "pygments_lexer": "ipython3",
   "version": "3.7.3"
  }
 },
 "nbformat": 4,
 "nbformat_minor": 2
}
